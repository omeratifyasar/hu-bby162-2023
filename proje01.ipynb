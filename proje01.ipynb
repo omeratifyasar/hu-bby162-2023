{
  "nbformat": 4,
  "nbformat_minor": 0,
  "metadata": {
    "colab": {
      "provenance": [],
      "authorship_tag": "ABX9TyM9L4uvnD4i8dI2OqXbHBJR",
      "include_colab_link": true
    },
    "kernelspec": {
      "name": "python3",
      "display_name": "Python 3"
    },
    "language_info": {
      "name": "python"
    }
  },
  "cells": [
    {
      "cell_type": "markdown",
      "metadata": {
        "id": "view-in-github",
        "colab_type": "text"
      },
      "source": [
        "<a href=\"https://colab.research.google.com/github/omeratifyasar/hu-bby162-2023/blob/main/proje01.ipynb\" target=\"_parent\"><img src=\"https://colab.research.google.com/assets/colab-badge.svg\" alt=\"Open In Colab\"/></a>"
      ]
    },
    {
      "cell_type": "code",
      "execution_count": null,
      "metadata": {
        "colab": {
          "base_uri": "https://localhost:8080/"
        },
        "id": "d4bnU9JyLyUM",
        "outputId": "7c4b37f3-8a89-431a-f9a2-3cd64ed69d6f"
      },
      "outputs": [
        {
          "output_type": "stream",
          "name": "stdout",
          "text": [
            "İş Ekleme Uygulamsına Hoşgeldin :D\n",
            "Yapılacak İşler:\n",
            "Listede herhangi bir iş yok.\n"
          ]
        }
      ],
      "source": [
        "tasks = []\n",
        "print(\"İş Ekleme Uygulamsına Hoşgeldin :D\")\n",
        "# Yapılacak işler listesini görüntüle\n",
        "print(\"Yapılacak İşler:\")\n",
        "if len(tasks) == 0:\n",
        "    print(\"Listede herhangi bir iş yok.\")\n",
        "else:\n",
        "    for i in range(len(tasks)):\n",
        "        print(f\"{i+1}. {tasks[i]}\")\n",
        "     \n",
        "\n",
        "# Yeni bir iş ekle\n",
        "new_task = input(\"Yeni iş ekleyin: \")\n",
        "tasks.append(new_task)"
      ]
    }
  ]
}