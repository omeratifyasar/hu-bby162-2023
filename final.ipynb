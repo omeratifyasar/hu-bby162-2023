{
  "nbformat": 4,
  "nbformat_minor": 0,
  "metadata": {
    "colab": {
      "provenance": [],
      "mount_file_id": "1x1ttJjtkxAM7OpbnNNRHX7bucoWRTPwj",
      "authorship_tag": "ABX9TyNNIpCcttsBvSVGID3hoXcd",
      "include_colab_link": true
    },
    "kernelspec": {
      "name": "python3",
      "display_name": "Python 3"
    },
    "language_info": {
      "name": "python"
    }
  },
  "cells": [
    {
      "cell_type": "markdown",
      "metadata": {
        "id": "view-in-github",
        "colab_type": "text"
      },
      "source": [
        "<a href=\"https://colab.research.google.com/github/omeratifyasar/hu-bby162-2023/blob/main/final.ipynb\" target=\"_parent\"><img src=\"https://colab.research.google.com/assets/colab-badge.svg\" alt=\"Open In Colab\"/></a>"
      ]
    },
    {
      "cell_type": "code",
      "execution_count": null,
      "metadata": {
        "colab": {
          "base_uri": "https://localhost:8080/"
        },
        "id": "yuKkfScA6wUz",
        "outputId": "4353cce8-3d01-482d-de52-527486e0ccf4"
      },
      "outputs": [
        {
          "output_type": "stream",
          "name": "stdout",
          "text": [
            "Kütüphane Katalog Sistemi\n",
            "Lütfen Adınızı Giriniz: sa\n",
            "Kütüphane Katoloğuna Hoş Geldiniz, sa\n",
            "1)Kayıtları listele - 2)Yeni kayıt ekle - 3)Kayıt ara - 0)Çıkış 1\n",
            "Kütüphane katoloğuna hoşgeldiniz!\n",
            "\n",
            "\n",
            "Hamlet , William Shakespeare , Türkiye İş Bankası Kültür Yayınları , 2008 , 9789944883061\n",
            "\n",
            "The Seven Husbands of Evelyn Hugo: A Novel , Taylor Jenkins Reid , Washington Square Press , 2018 , 9781501161933\n",
            "\n",
            "Hayvan Çiftliği , George Orwell , Türkiye İş Bankası Kültür Yayınları , 2021 , 9786254052040\n",
            "\n",
            "Where the Crawdads Sing , Delia Owens , Penguin Publishing Group , 2021 , 9780735219106\n",
            "\n",
            "Peter Pan , James Matthew Barrie , Türkiye İş Bankası Kültür Yayınları , 2019 , 9786052958902\n",
            "\n",
            "Stranger Than Fanfiction , Chris Colfer , Little, Brown Books for Young Readers , 2018 , 9780316383431\n",
            "\n",
            "A Tale of Magic... (Tale of Magic Series #1) , Chris Colfer , Little, Brown Books for Young Readers , 2020 , 9780316523516 \n",
            "\n",
            "A Tale of Witchcraft... (Tale of Magic Series #2) , Chris Colfer , Little, Brown Books for Young Readers , 2021 , 9780316523547\n",
            "\n",
            "A Tale of Sorcery... (Tale of Magic Series #3) , Chris Colfer , Little, Brown Books for Young Readers , 2021 , 9780316055994\n",
            "\n",
            "1984 , George Orwell , Can Yayınları , 2020 , 9789750718533 \n",
            "\n",
            "Suç ve Ceza , Dostoyevski , Türkiye İş Bankası Kültür Yayınları , 2020 , 9789754589023\n",
            "\n",
            "Sineklerin Tanrısı , William Golding , Türkiye İş Bankası Kültür Yayınları , 2008 , 9789754582901\n",
            "\n",
            "Doktor Ox’un Deneyi , Jules Verne , Türkiye İş Bankası Kültür Yayınları , 2017 , 9786053329695\n",
            "\n",
            "Gulliver’in Gezileri , Jonathan Swift , Türkiye İş Bankası Kültür Yayınları , 2007 , 9789754589597\n",
            "1)Kayıtları listele - 2)Yeni kayıt ekle - 3)Kayıt ara - 0)Çıkış 2\n",
            "Kayıt işlemi için aşağıdaki adımları gerçekleştirin.\n",
            "Kitabın Adı: sadak\n",
            "Kitabın Yazarı: Ömer Atıf Yaşar\n",
            "Kitabın Yayınevi: Yaşar Kitapevi\n",
            "Kitabın ISBN Bilgileri: 313162623131\n",
            "Kitabın Basıldığı Yıl: 2021\n",
            "Kitap kayıt işlemi başarıyla gerçekleştirildi.\n",
            "1)Kayıtları listele - 2)Yeni kayıt ekle - 3)Kayıt ara - 0)Çıkış 1\n",
            "Kütüphane katoloğuna hoşgeldiniz!\n",
            "\n",
            "\n",
            "Hamlet , William Shakespeare , Türkiye İş Bankası Kültür Yayınları , 2008 , 9789944883061\n",
            "\n",
            "The Seven Husbands of Evelyn Hugo: A Novel , Taylor Jenkins Reid , Washington Square Press , 2018 , 9781501161933\n",
            "\n",
            "Hayvan Çiftliği , George Orwell , Türkiye İş Bankası Kültür Yayınları , 2021 , 9786254052040\n",
            "\n",
            "Where the Crawdads Sing , Delia Owens , Penguin Publishing Group , 2021 , 9780735219106\n",
            "\n",
            "Peter Pan , James Matthew Barrie , Türkiye İş Bankası Kültür Yayınları , 2019 , 9786052958902\n",
            "\n",
            "Stranger Than Fanfiction , Chris Colfer , Little, Brown Books for Young Readers , 2018 , 9780316383431\n",
            "\n",
            "A Tale of Magic... (Tale of Magic Series #1) , Chris Colfer , Little, Brown Books for Young Readers , 2020 , 9780316523516 \n",
            "\n",
            "A Tale of Witchcraft... (Tale of Magic Series #2) , Chris Colfer , Little, Brown Books for Young Readers , 2021 , 9780316523547\n",
            "\n",
            "A Tale of Sorcery... (Tale of Magic Series #3) , Chris Colfer , Little, Brown Books for Young Readers , 2021 , 9780316055994\n",
            "\n",
            "1984 , George Orwell , Can Yayınları , 2020 , 9789750718533 \n",
            "\n",
            "Suç ve Ceza , Dostoyevski , Türkiye İş Bankası Kültür Yayınları , 2020 , 9789754589023\n",
            "\n",
            "Sineklerin Tanrısı , William Golding , Türkiye İş Bankası Kültür Yayınları , 2008 , 9789754582901\n",
            "\n",
            "Doktor Ox’un Deneyi , Jules Verne , Türkiye İş Bankası Kültür Yayınları , 2017 , 9786053329695\n",
            "\n",
            "Gulliver’in Gezileri , Jonathan Swift , Türkiye İş Bankası Kültür Yayınları , 2007 , 9789754589597sadak , Ömer Atıf Yaşar , Yaşar Kitapevi , 2021 , 313162623131\n",
            "\n"
          ]
        }
      ],
      "source": [
        "from google.colab import drive\n",
        "\n",
        "dosya = \"/content/drive/MyDrive/Colab Notebooks/veritabani.txt\"\n",
        "\n",
        "print(\"Kütüphane Katalog Sistemi\")\n",
        "name = input(\"Lütfen Adınızı Giriniz: \")\n",
        "print(\"Kütüphane Katoloğuna Hoş Geldiniz,\" , name)\n",
        "\n",
        "def KitapListele():\n",
        "  f = open(dosya, 'r')\n",
        "  for line in f.readlines():\n",
        "    print(line)\n",
        "  f.close()\n",
        "\n",
        "def KitapKaydetme():\n",
        "  KitabınAdı = input(\"Kitabın Adı: \")\n",
        "  KitabınYazarı = input(\"Kitabın Yazarı: \")\n",
        "  KitabınYayınevi = input(\"Kitabın Yayınevi: \")\n",
        "  KitapIBSN = input(\"Kitabın ISBN Bilgileri: \")\n",
        "  KitapBasım = input(\"Kitabın Basıldığı Yıl: \")\n",
        "  f = open(dosya, 'a' )\n",
        "  f.write(KitabınAdı + \" , \" + KitabınYazarı + \" , \" + KitabınYayınevi + \" , \" + KitapBasım + \" , \" + KitapIBSN + '\\n')\n",
        "  print(\"Kitap kayıt işlemi başarıyla gerçekleştirildi.\")\n",
        "  f.close()\n",
        "\n",
        "def Arama():\n",
        "  file_path = \"/content/drive/MyDrive/veritabani.txt\"\n",
        "  word = input(\"Aradığınız eseri giriniz: \")\n",
        "  with open(file_path, 'r') as file:\n",
        "        içerik = file.read()\n",
        "        küçük = içerik.lower()\n",
        "        if word in küçük:\n",
        "            print('Aradığınız kitap katalogta bulunmaktadır.')\n",
        "            print(içerik)\n",
        "        else:\n",
        "            print('Aradığınız kitap katalogta bulunmamaktadır.')\n",
        "   \n",
        "def menu():\n",
        " secimYapma = [\"1\", \"2\", \"3\", \"0\"] \n",
        " while secimYapma:\n",
        "   seçimÇalıştır = input(\"1)Kayıtları listele - 2)Yeni kayıt ekle - 3)Kayıt ara - 0)Çıkış \")  \n",
        "   if seçimÇalıştır == secimYapma[0]:\n",
        "      print(\"Kütüphane katoloğuna hoşgeldiniz!\")\n",
        "      KitapListele()\n",
        "   elif seçimÇalıştır == secimYapma[1]:\n",
        "      print(\"Kayıt işlemi için aşağıdaki adımları gerçekleştirin.\")\n",
        "      KitapKaydetme()\n",
        "   elif seçimÇalıştır == secimYapma[2]:\n",
        "      print(\"Arama bölümüne giriş yaptınız.\") \n",
        "      Arama()\n",
        "   elif seçimÇalıştır == \"0\":\n",
        "      print(\"Sistemden çıkış yapıldı...\")\n",
        "      break\n",
        "   else:\n",
        "      print(\"Seçtiğiniz komut tanımlı değil!\")\n",
        "menu()"
      ]
    },
    {
      "cell_type": "markdown",
      "source": [
        "# Yeni Bölüm"
      ],
      "metadata": {
        "id": "cC008X3x9-m7"
      }
    }
  ]
}