{
  "nbformat": 4,
  "nbformat_minor": 0,
  "metadata": {
    "colab": {
      "provenance": [],
      "mount_file_id": "1x1ttJjtkxAM7OpbnNNRHX7bucoWRTPwj",
      "authorship_tag": "ABX9TyNNIpCcttsBvSVGID3hoXcd",
      "include_colab_link": true
    },
    "kernelspec": {
      "name": "python3",
      "display_name": "Python 3"
    },
    "language_info": {
      "name": "python"
    }
  },
  "cells": [
    {
      "cell_type": "markdown",
      "metadata": {
        "id": "view-in-github",
        "colab_type": "text"
      },
      "source": [
        "<a href=\"https://colab.research.google.com/github/omeratifyasar/hu-bby162-2023/blob/main/final.ipynb\" target=\"_parent\"><img src=\"https://colab.research.google.com/assets/colab-badge.svg\" alt=\"Open In Colab\"/></a>"
      ]
    },
    {
      "cell_type": "code",
      "execution_count": null,
      "metadata": {
        "colab": {
          "base_uri": "https://localhost:8080/"
        },
        "id": "yuKkfScA6wUz",
        "outputId": "dc4b4f2d-e59a-4167-ddb2-e23bba1cbd60"
      },
      "outputs": [
        {
          "output_type": "stream",
          "name": "stdout",
          "text": [
            "Kütüphane Katalog Sistemi\n"
          ]
        }
      ],
      "source": [
        "from google.colab import drive\n",
        "\n",
        "dosya = \"/content/drive/MyDrive/Colab Notebooks/veritabani.txt\"\n",
        "\n",
        "print(\"Kütüphane Katalog Sistemi\")\n",
        "name = input(\"Lütfen Adınızı Giriniz: \")\n",
        "print(\"Kütüphane Katoloğuna Hoş Geldiniz,\" , name)\n",
        "\n",
        "def KitapListele():\n",
        "  f = open(dosya, 'r')\n",
        "  for line in f.readlines():\n",
        "    print(line)\n",
        "  f.close()\n",
        "\n",
        "def KitapKaydetme():\n",
        "  KitabınAdı = input(\"Kitabın Adı: \")\n",
        "  KitabınYazarı = input(\"Kitabın Yazarı: \")\n",
        "  KitabınYayınevi = input(\"Kitabın Yayınevi: \")\n",
        "  KitapIBSN = input(\"Kitabın ISBN Bilgileri: \")\n",
        "  KitapBasım = input(\"Kitabın Basıldığı Yıl: \")\n",
        "  f = open(dosya, 'a' )\n",
        "  f.write(KitabınAdı + \" , \" + KitabınYazarı + \" , \" + KitabınYayınevi + \" , \" + KitapBasım + \" , \" + KitapIBSN + '\\n')\n",
        "  print(\"Kitap kayıt işlemi başarıyla gerçekleştirildi.\")\n",
        "  f.close()\n",
        "\n",
        "def Arama():\n",
        "  file_path = \"/content/drive/MyDrive/veritabani.txt\"\n",
        "  word = input(\"Aradığınız eseri giriniz: \")\n",
        "  with open(file_path, 'r') as file:\n",
        "        içerik = file.read()\n",
        "        küçük = içerik.lower()\n",
        "        if word in küçük:\n",
        "            print('Aradığınız kitap katalogta bulunmaktadır.')\n",
        "            print(içerik)\n",
        "        else:\n",
        "            print('Aradığınız kitap katalogta bulunmamaktadır.')\n",
        "   \n",
        "def menu():\n",
        " secimYapma = [\"1\", \"2\", \"3\", \"0\"] \n",
        " while secimYapma:\n",
        "   seçimÇalıştır = input(\"1)Kayıtları listele - 2)Yeni kayıt ekle - 3)Kayıt ara - 0)Çıkış \")  \n",
        "   if seçimÇalıştır == secimYapma[0]:\n",
        "      print(\"Kütüphane katoloğuna hoşgeldiniz!\")\n",
        "      KitapListele()\n",
        "   elif seçimÇalıştır == secimYapma[1]:\n",
        "      print(\"Kayıt işlemi için aşağıdaki adımları gerçekleştirin.\")\n",
        "      KitapKaydetme()\n",
        "   elif seçimÇalıştır == secimYapma[2]:\n",
        "      print(\"Arama bölümüne giriş yaptınız.\") \n",
        "      Arama()\n",
        "   elif seçimÇalıştır == \"0\":\n",
        "      print(\"Sistemden çıkış yapıldı...\")\n",
        "      break\n",
        "   else:\n",
        "      print(\"Seçtiğiniz komut tanımlı değil!\")\n",
        "menu()"
      ]
    },
    {
      "cell_type": "markdown",
      "source": [
        "# Yeni Bölüm"
      ],
      "metadata": {
        "id": "cC008X3x9-m7"
      }
    }
  ]
}