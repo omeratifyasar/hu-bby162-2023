{
  "nbformat": 4,
  "nbformat_minor": 0,
  "metadata": {
    "colab": {
      "provenance": [],
      "authorship_tag": "ABX9TyMGakgPVYBDybmVHczOgw/U",
      "include_colab_link": true
    },
    "kernelspec": {
      "name": "python3",
      "display_name": "Python 3"
    },
    "language_info": {
      "name": "python"
    }
  },
  "cells": [
    {
      "cell_type": "markdown",
      "metadata": {
        "id": "view-in-github",
        "colab_type": "text"
      },
      "source": [
        "<a href=\"https://colab.research.google.com/github/omeratifyasar/hu-bby162-2023/blob/main/proje02.ipynb\" target=\"_parent\"><img src=\"https://colab.research.google.com/assets/colab-badge.svg\" alt=\"Open In Colab\"/></a>"
      ]
    },
    {
      "cell_type": "code",
      "execution_count": null,
      "metadata": {
        "colab": {
          "base_uri": "https://localhost:8080/"
        },
        "id": "j2TW4pcSkOao",
        "outputId": "87ebf2fb-4d23-4529-9578-dc883a0a99a0"
      },
      "outputs": [
        {
          "output_type": "stream",
          "name": "stdout",
          "text": [
            "Lütfen seviyenizi seçin (1- Basit, 2- Orta, 3- İleri): 2\n",
            "Kelime: ----- (5 harf)\n",
            "İpucu: Yollarda kullanılan bir taşıt\n",
            "Tahmininiz: araba\n",
            "Doğru!\n",
            "Kelime: ----- (5 harf)\n",
            "İpucu: Yollarda kullanılan bir taşıt\n"
          ]
        }
      ],
      "source": [
        "import random\n",
        "\n",
        "# Kelime sözlüğü\n",
        "words_dict = {\n",
        "    \"kedi\": \"Evcil bir hayvan\",\n",
        "    \"meyve\": \"Yenilebilir bir şey\",\n",
        "    \"araba\": \"Yollarda kullanılan bir taşıt\",\n",
        "    \"Masaüstü\" : \"Bilgisayarların üzerine konulduğu veya yerleştirildiği mobilya parçası\", \n",
        "    \"Karanfil\" : \"Tatlı ve keskin kokulu çiçekleri olan bir bitki türü\", \n",
        "    r\"Pilot\" : \"Uçak, helikopter veya diğer hava taşıtlarını uçuran kişi\",\n",
        "    # Daha fazla kelime eklenebilir\n",
        "}\n",
        "\n",
        "# Kullanıcıya seviye seçimini sorun\n",
        "level = input(\"Lütfen seviyenizi seçin (1- Basit, 2- Orta, 3- İleri): \")\n",
        "\n",
        "# Seviyeye göre can sayısını belirleyin\n",
        "if level == \"1\":\n",
        "    max_lives = 5\n",
        "elif level == \"2\":\n",
        "    max_lives = 3\n",
        "else:\n",
        "    max_lives = 1\n",
        "\n",
        "# Rastgele bir kelime seçin\n",
        "word = random.choice(list(words_dict.keys()))\n",
        "clue = words_dict[word]\n",
        "\n",
        "# Oyun döngüsü\n",
        "lives = max_lives\n",
        "guessed_word = \"-\" * len(word)\n",
        "\n",
        "while lives > 0 and guessed_word != word:\n",
        "    print(f\"Kelime: {guessed_word} ({len(word)} harf)\")\n",
        "    print(f\"İpucu: {clue}\")\n",
        "    guess = input(\"Tahmininiz: \").lower()\n",
        "\n",
        "    if guess in word:\n",
        "        print(\"Doğru!\")\n",
        "        for i in range(len(word)):\n",
        "            if word[i] == guess:\n",
        "                guessed_word = guessed_word[:i] + guess + guessed_word[i+1:]\n",
        "    else:\n",
        "        print(\"Yanlış!\")\n",
        "        lives -= 1\n",
        "\n",
        "# Oyun sonu\n",
        "if guessed_word == word:\n",
        "    print(f\"Tebrikler! Kelimeyi doğru tahmin ettiniz: {word}\")\n",
        "else:\n",
        "    print(f\"Maalesef kaybettiniz. Doğru kelime: {word}\")\n",
        "    \n",
        "    play_again = input(\"Yeniden oynamak istiyor musunuz? (E/H): \")\n",
        "    if play_again.lower() == \"e\":\n",
        "        main()\n",
        "    else:\n",
        "        print(\"Oyun sonlandırıldı.\")\n",
        "\n"
      ]
    }
  ]
}